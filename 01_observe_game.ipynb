{
 "cells": [
  {
   "cell_type": "code",
   "execution_count": null,
   "id": "6e008bff-a9c1-44bb-9062-1e46cf4952cb",
   "metadata": {},
   "outputs": [],
   "source": [
    "%matplotlib inline\n",
    "import chess\n",
    "import time\n",
    "import pylab as pl\n",
    "from IPython import display\n",
    "import pickle"
   ]
  },
  {
   "cell_type": "code",
   "execution_count": null,
   "id": "4d673dd8-ba9a-4ba1-b548-dcab4f1c2352",
   "metadata": {},
   "outputs": [],
   "source": [
    "with open(\"out/games/cloud2/game_940.dat\", \"rb\") as f:\n",
    "    move_stack = pickle.load(f)"
   ]
  },
  {
   "cell_type": "code",
   "execution_count": null,
   "id": "d9f9d4fa-6c93-447d-a037-70abddb56236",
   "metadata": {},
   "outputs": [],
   "source": [
    "board = chess.Board()\n",
    "display.display(board)\n",
    "\n",
    "for i, m in enumerate(move_stack): \n",
    "    last_board = board.copy()\n",
    "    t = 0.5\n",
    "    player = (i%2) + 1\n",
    "    \n",
    "    display.clear_output(wait=True)\n",
    "    # display.display(f\"kill: {board.is_capture(m)}\")\n",
    "    board.push(m)\n",
    "    \n",
    "    display.display(board)\n",
    "    # display.display(f\"move{i}, ind_move: {i//2},  player: {player}, move: {m}\")\n",
    "    \n",
    "    time.sleep(t)"
   ]
  }
 ],
 "metadata": {
  "kernelspec": {
   "display_name": "Python 3 (ipykernel)",
   "language": "python",
   "name": "python3"
  },
  "language_info": {
   "codemirror_mode": {
    "name": "ipython",
    "version": 3
   },
   "file_extension": ".py",
   "mimetype": "text/x-python",
   "name": "python",
   "nbconvert_exporter": "python",
   "pygments_lexer": "ipython3",
   "version": "3.9.7"
  }
 },
 "nbformat": 4,
 "nbformat_minor": 5
}
