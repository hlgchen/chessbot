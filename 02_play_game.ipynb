{
 "cells": [
  {
   "cell_type": "code",
   "execution_count": null,
   "id": "67c775cd-bac8-4105-b786-103d0042376d",
   "metadata": {},
   "outputs": [],
   "source": [
    "%matplotlib inline\n",
    "import chess\n",
    "import time\n",
    "import pylab as pl\n",
    "from IPython import display\n",
    "import pickle\n",
    "\n",
    "from bot.bots import HaiBotLong\n",
    "from bot.model import VFA"
   ]
  },
  {
   "cell_type": "markdown",
   "id": "94b18c95-f482-4f45-a780-cba889cd844a",
   "metadata": {},
   "source": [
    "### import model"
   ]
  },
  {
   "cell_type": "code",
   "execution_count": null,
   "id": "5115593f-e7e2-4b1c-abcc-c5d46f9f82d2",
   "metadata": {},
   "outputs": [],
   "source": [
    "def player_play(board): \n",
    "    your_move = None\n",
    "    while your_move is None: \n",
    "        try: \n",
    "            your_move = board.parse_uci(input(\"uci-move:\"))\n",
    "        except: \n",
    "            your_move = board.parse_uci(input(\"invalid move, need valid uci-move:\"))\n",
    "    board.push(your_move)\n",
    "    outcome = board.outcome()\n",
    "    return outcome\n",
    "\n",
    "def bot_play_wrapper(bot, e=0.02): \n",
    "    def bot_play(board): \n",
    "        action_bot = bot.play(board, e=e, training=False)\n",
    "        move_bot = board.parse_uci(action_bot)\n",
    "        board.push(move_bot)\n",
    "        outcome = board.outcome()\n",
    "        return outcome\n",
    "    return bot_play"
   ]
  },
  {
   "cell_type": "markdown",
   "id": "e2e48819-0353-4320-8d86-ba7115fc43a4",
   "metadata": {},
   "source": [
    "### player game"
   ]
  },
  {
   "cell_type": "code",
   "execution_count": null,
   "id": "96d8dcbf-0642-484c-94dd-b399eee6d787",
   "metadata": {
    "jupyter": {
     "source_hidden": true
    },
    "tags": []
   },
   "outputs": [],
   "source": [
    "board = chess.Board()\n",
    "\n",
    "side = input(\"choose you side: w for white and b for black\")\n",
    "opponent = \"w\" if (side == \"b\") else \"b\"\n",
    "\n",
    "model_path = \"out/models/cloud2/m_30_iter_3371.ckpt\"\n",
    "bot = HaiBotLong(color=opponent, model_path=model_path)\n",
    "\n",
    "if side == \"w\": \n",
    "    p1 = player_play\n",
    "    p2 = bot_play_wrapper(bot)\n",
    "else: \n",
    "    p1 = bot_play_wrapper(bot)\n",
    "    p2 = player_play\n",
    "    \n",
    "    \n",
    "display.display(board)\n",
    "while True: \n",
    "    outcome = p1(board)\n",
    "    display.clear_output(wait=True)\n",
    "    display.display(board)\n",
    "    if outcome is not None:\n",
    "        break\n",
    "        \n",
    "    time.sleep(0.5)\n",
    "    outcome = p2(board)\n",
    "    display.clear_output(wait=True)\n",
    "    display.display(board)\n",
    "    if outcome is not None:\n",
    "        break\n",
    "print(outcome)"
   ]
  },
  {
   "cell_type": "markdown",
   "id": "5cb2e4c2-91d7-4d1e-b004-ed56f923409c",
   "metadata": {},
   "source": [
    "### bot game"
   ]
  },
  {
   "cell_type": "code",
   "execution_count": null,
   "id": "5eac6c60-b288-4a63-aafd-bce7784c5445",
   "metadata": {},
   "outputs": [],
   "source": [
    "board = chess.Board()\n",
    "\n",
    "bot1_path = \"out/models/champs/m_410_iter_35396.ckpt\"\n",
    "bot2_path = \"out/models/cloud2/m_940_iter_68773.ckpt\"\n",
    "bot1 = HaiBotLong(color=\"W\", model_path=bot1_path)\n",
    "bot2 = HaiBotLong(color=\"B\", model_path=bot2_path)\n",
    "\n",
    "p1 = bot_play_wrapper(bot1)\n",
    "p2 = bot_play_wrapper(bot2)\n",
    "    \n",
    "display.display(board)\n",
    "while True: \n",
    "    outcome = p1(board)\n",
    "    display.clear_output(wait=True)\n",
    "    display.display(board)\n",
    "    if outcome is not None:\n",
    "        break\n",
    "        \n",
    "    # time.sleep(0.2)\n",
    "    outcome = p2(board)\n",
    "    display.clear_output(wait=True)\n",
    "    display.display(board)\n",
    "    if outcome is not None:\n",
    "        break\n",
    "        \n",
    "print(outcome)\n",
    "if outcome.winner is not None: \n",
    "    winner = bot1_path if outcome.winner else bot2_path\n",
    "    print(\"winner: \", winner)"
   ]
  },
  {
   "cell_type": "code",
   "execution_count": null,
   "id": "8d5a6026-38a9-44a0-b2e7-1ded13872969",
   "metadata": {},
   "outputs": [],
   "source": []
  }
 ],
 "metadata": {
  "kernelspec": {
   "display_name": "Python 3 (ipykernel)",
   "language": "python",
   "name": "python3"
  },
  "language_info": {
   "codemirror_mode": {
    "name": "ipython",
    "version": 3
   },
   "file_extension": ".py",
   "mimetype": "text/x-python",
   "name": "python",
   "nbconvert_exporter": "python",
   "pygments_lexer": "ipython3",
   "version": "3.9.7"
  }
 },
 "nbformat": 4,
 "nbformat_minor": 5
}
