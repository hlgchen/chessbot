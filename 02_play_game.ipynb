{
 "cells": [
  {
   "cell_type": "code",
   "execution_count": null,
   "id": "67c775cd-bac8-4105-b786-103d0042376d",
   "metadata": {},
   "outputs": [],
   "source": [
    "%load_ext autoreload\n",
    "%autoreload 2\n",
    "%matplotlib inline\n",
    "import chess\n",
    "from IPython import display\n",
    "import pickle\n",
    "\n",
    "from bot.bots import HaiBotLong\n",
    "from bot.bots import HaiBotLongs\n",
    "from bot.model import VFA\n",
    "\n",
    "import torch\n",
    "import numpy as np"
   ]
  },
  {
   "cell_type": "markdown",
   "id": "94b18c95-f482-4f45-a780-cba889cd844a",
   "metadata": {},
   "source": [
    "### import model"
   ]
  },
  {
   "cell_type": "code",
   "execution_count": null,
   "id": "5115593f-e7e2-4b1c-abcc-c5d46f9f82d2",
   "metadata": {
    "tags": []
   },
   "outputs": [],
   "source": [
    "def player_play(board): \n",
    "    your_move = None\n",
    "    while your_move is None: \n",
    "        try: \n",
    "            your_move = board.parse_uci(input(\"uci-move:\"))\n",
    "        except: \n",
    "            your_move = board.parse_uci(input(\"invalid move, need valid uci-move:\"))\n",
    "    board.push(your_move)\n",
    "    outcome = board.outcome()\n",
    "    return outcome\n",
    "\n",
    "def bot_play_wrapper(bot, e=0.02): \n",
    "    def bot_play(board): \n",
    "        action_bot = bot.play(board, e=e, training=False)\n",
    "        move_bot = board.parse_uci(action_bot)\n",
    "        board.push(move_bot)\n",
    "        outcome = board.outcome()\n",
    "        return outcome\n",
    "    return bot_play"
   ]
  },
  {
   "cell_type": "markdown",
   "id": "1bab443e-1a65-4465-bc0e-5beeceb9dbb2",
   "metadata": {},
   "source": [
    "### helper functions"
   ]
  },
  {
   "cell_type": "code",
   "execution_count": null,
   "id": "0f88950c-288d-4c0b-bda7-9b1ed84495ac",
   "metadata": {
    "tags": []
   },
   "outputs": [],
   "source": [
    "def get_single_bot(path, color): \n",
    "    bot_vfa = VFA()\n",
    "    bot_vfa.load_state_dict(torch.load(path))\n",
    "    bot = HaiBotLong(color=color, vfa=bot_vfa)\n",
    "    return bot\n",
    "\n",
    "def get_ensemble_bot(path_ls, color): \n",
    "    bot_vfa_ls = []\n",
    "    for path in path_ls: \n",
    "        bot_vfa = VFA()\n",
    "        bot_vfa.load_state_dict(torch.load(path))\n",
    "        bot_vfa_ls.append(bot_vfa)\n",
    "    bot = HaiBotLongs(vfa_ls=bot_vfa_ls, color=color,)\n",
    "    return bot"
   ]
  },
  {
   "cell_type": "code",
   "execution_count": null,
   "id": "d9acc6c5-fb33-4bc0-8c27-27851054aa3c",
   "metadata": {
    "tags": []
   },
   "outputs": [],
   "source": [
    "def display_game(bot1, bot2, e=0.00001): \n",
    "    board = chess.Board()\n",
    "\n",
    "    p1 = bot_play_wrapper(bot1, e=e)\n",
    "    p2 = bot_play_wrapper(bot2)\n",
    "\n",
    "    display.display(board)\n",
    "    while True: \n",
    "        outcome = p1(board)\n",
    "        display.clear_output(wait=True)\n",
    "        display.display(board)\n",
    "        if outcome is not None:\n",
    "            break\n",
    "\n",
    "        # time.sleep(0.2)\n",
    "        outcome = p2(board)\n",
    "        display.clear_output(wait=True)\n",
    "        display.display(board)\n",
    "        if outcome is not None:\n",
    "            break\n",
    "    print(outcome)\n",
    "    \n",
    "def play_game(bot1, bot2, e=0.00001): \n",
    "    board = chess.Board()\n",
    "\n",
    "    p1 = bot_play_wrapper(bot1, e=e)\n",
    "    p2 = bot_play_wrapper(bot2)\n",
    "    while True: \n",
    "        outcome = p1(board)\n",
    "        if outcome is not None:\n",
    "            break\n",
    "\n",
    "        outcome = p2(board)\n",
    "        if outcome is not None:\n",
    "            break\n",
    "            \n",
    "    print(outcome)\n",
    "    if outcome.winner is not None: \n",
    "        return 1 if outcome.winner else 2\n",
    "    else: \n",
    "        return 0"
   ]
  },
  {
   "cell_type": "code",
   "execution_count": null,
   "id": "1c321a95-de7e-497f-be08-6bc525cf344e",
   "metadata": {
    "tags": []
   },
   "outputs": [],
   "source": [
    "def evaluate(ls): \n",
    "    ls = np.array(ls)\n",
    "    draws = (ls==0).sum()\n",
    "    b1 = (ls==1).sum()\n",
    "    b2 = (ls==2).sum()\n",
    "    print(f\"draws: {draws}\")\n",
    "    print(f\"bot1 wins: {b1}\")\n",
    "    print(f\"bot2 wins: {b2}\")"
   ]
  },
  {
   "cell_type": "markdown",
   "id": "5cb2e4c2-91d7-4d1e-b004-ed56f923409c",
   "metadata": {},
   "source": [
    "### bot game"
   ]
  },
  {
   "cell_type": "code",
   "execution_count": null,
   "id": "02d05999-3d3a-47f7-95b0-245322478f72",
   "metadata": {},
   "outputs": [],
   "source": [
    "# initialize bots\n",
    "bot1_path = \"out/models/v8b/m_810_iter_74550.ckpt\"\n",
    "bot1 = get_single_bot(bot1_path, color=\"W\")\n",
    "\n",
    "bot2_path = \"out/models/v8b/m_690_iter_62338.ckpt\"\n",
    "bot2 = get_single_bot(bot2_path, color=\"B\")\n",
    "\n",
    "\n",
    "bot_path_ls = [\n",
    "    \"out/models/v8/m_410_iter_34868.ckpt\",\n",
    "    \"out/models/v8/m_490_iter_42784.ckpt\",\n",
    "    \"out/models/v8b/m_680_iter_61158.ckpt\",\n",
    "    \"out/models/v8b/m_690_iter_62338.ckpt\",\n",
    "    # \"out/models/v8b/m_690_iter_62338.ckpt\",\n",
    "    \"out/models/v8b/m_750_iter_68319.ckpt\", \n",
    "    \"out/models/v8b/m_810_iter_74550.ckpt\",\n",
    "    # \"out/models/v8b/m_830_iter_76270.ckpt\",\n",
    "    # \"out/models/v8b/m_880_iter_81177.ckpt\", \n",
    "    \"out/models/v8b/m_950_iter_88179.ckpt\", \n",
    "    # \"out/models/v8b/m_1010_iter_93755.ckpt\", \n",
    "\n",
    "]\n",
    "\n",
    "bot1 = get_ensemble_bot(bot_path_ls, color=\"W\")"
   ]
  },
  {
   "cell_type": "code",
   "execution_count": null,
   "id": "2a1637ff-cffb-4d33-8b1b-657e049668b4",
   "metadata": {},
   "outputs": [],
   "source": [
    "# display_game(bot1, bot2)"
   ]
  },
  {
   "cell_type": "code",
   "execution_count": null,
   "id": "8d5a6026-38a9-44a0-b2e7-1ded13872969",
   "metadata": {},
   "outputs": [],
   "source": [
    "%%time\n",
    "ls = []\n",
    "\n",
    "for i in range(20): \n",
    "    ls.append(play_game(bot1, bot2))"
   ]
  },
  {
   "cell_type": "code",
   "execution_count": null,
   "id": "54bf4e29-55e4-45ee-9007-577423b2d859",
   "metadata": {},
   "outputs": [],
   "source": [
    "evaluate(ls)"
   ]
  }
 ],
 "metadata": {
  "kernelspec": {
   "display_name": "Python 3 (ipykernel)",
   "language": "python",
   "name": "python3"
  },
  "language_info": {
   "codemirror_mode": {
    "name": "ipython",
    "version": 3
   },
   "file_extension": ".py",
   "mimetype": "text/x-python",
   "name": "python",
   "nbconvert_exporter": "python",
   "pygments_lexer": "ipython3",
   "version": "3.9.7"
  }
 },
 "nbformat": 4,
 "nbformat_minor": 5
}
